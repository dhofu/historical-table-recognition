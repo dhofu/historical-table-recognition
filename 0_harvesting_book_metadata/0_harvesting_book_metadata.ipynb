{
 "cells": [
  {
   "cell_type": "markdown",
   "metadata": {},
   "source": [
    "### Harvesting metadata about books in the BSB digital collections"
   ]
  },
  {
   "cell_type": "markdown",
   "metadata": {},
   "source": [
    "#### Introduction"
   ]
  },
  {
   "cell_type": "markdown",
   "metadata": {},
   "source": [
    "This notebook uses the [Bavarian State Library's OAI Handler](http://bdr.oai.bsb-muenchen.de/OAIHandler) to harvest metadata from the [digital collections](https://oai.bsb-muenchen.de/doc/bayerisches-digitales-repositorium/) of the Bavarian State Library and stores them in a local deployment of [MongoDB Community Edition](https://www.mongodb.com/docs/languages/python/pymongo-driver/current/connect/#local-deployment) using the pymongo client.<br>\n",
    "Installation instructions for MongoDB community edition, MongoDB Compass and MongoDB Shell are documented [here](https://www.mongodb.com/docs/manual/tutorial/install-mongodb-on-windows/#run-mongodb-community-edition-from-the-command-interpreter).<br>\n",
    "Instructions for pymongo are given [here](https://www.mongodb.com/docs/languages/python/pymongo-driver/current/get-started/).<br>\n",
    "\n",
    "To start the database: <br>\n",
    "Open the Windows command line (CMD) as Administrator and execute the following command (depending on where you want to store the data):\n",
    "```\n",
    "    \"C:\\Program Files\\MongoDB\\Server\\8.0\\bin\\mongod.exe\" --dbpath=\"c:\\data\\db\"\n",
    "```\n",
    "Then open mongosh.exe as Administrator and enter the name of the host. Here: mongodb://localhost <br>\n",
    "Optionally, you might want to open MongoDB Compass, the mongoDB GUI, and connect to localhost:27017 to view databases and collections, create new collections, and follow the harvesting process.<br>"
   ]
  },
  {
   "cell_type": "markdown",
   "metadata": {},
   "source": [
    "#### Load packages"
   ]
  },
  {
   "cell_type": "code",
   "execution_count": null,
   "metadata": {},
   "outputs": [],
   "source": [
    "# Load packages\n",
    "from sickle import Sickle\n",
    "from lxml import etree\n",
    "import re\n",
    "import json\n",
    "from pymongo import MongoClient\n",
    "import bson\n",
    "import xmltodict"
   ]
  },
  {
   "cell_type": "markdown",
   "metadata": {},
   "source": [
    "#### Connect to database"
   ]
  },
  {
   "cell_type": "code",
   "execution_count": null,
   "metadata": {},
   "outputs": [],
   "source": [
    "# Local deployment of mongoDB\n",
    "# The client accesses the local mongoDB instance\n",
    "# A database named \"balneologie\" was created using mongoDB Compass\n",
    "# A collection named \"bsb\" was created in the \"balneologie\" database\n",
    "uri = \"mongodb://localhost:27017/\"\n",
    "client = MongoClient(uri)\n",
    "database = client[\"bsb_metadata\"] # for example\n",
    "collection = database[\"numismatics\"] # for example"
   ]
  },
  {
   "cell_type": "code",
   "execution_count": null,
   "metadata": {},
   "outputs": [],
   "source": [
    "# Check connection and show existing collections in the database\n",
    "collection_list = database.list_collections()\n",
    "for c in collection_list:\n",
    "    print(c)"
   ]
  },
  {
   "cell_type": "markdown",
   "metadata": {},
   "source": [
    "#### Configure OAI handler"
   ]
  },
  {
   "cell_type": "markdown",
   "metadata": {},
   "source": [
    "This notebook shows how metadata harvesting was done using the OAI Handler of the Bavarian State Library.<br>\n",
    "With little adjustment, other OAI Handlers could be used as well, e.g.:\n",
    "- Bibliothèque Nationale de France (BNF): http://oai.bnf.fr/oai2/OAIHandler\n",
    "- Sächsiche Landes- und Universitätsbibliothek (SLUB): https://digital.slub-dresden.de/oai\n",
    "- Leibniz-Informationszentrum Technik und Naturwissenschaften (TIB): https://www.tib.eu/oai/public/repository/open"
   ]
  },
  {
   "cell_type": "code",
   "execution_count": null,
   "metadata": {},
   "outputs": [],
   "source": [
    "sickle = Sickle('http://bdr.oai.bsb-muenchen.de/OAIHandler')"
   ]
  },
  {
   "cell_type": "code",
   "execution_count": null,
   "metadata": {},
   "outputs": [],
   "source": [
    "oai_sets = sickle.ListSets()\n",
    "for oai_set in oai_sets:\n",
    "    print('setSpec value for selective harvesting: ' + oai_set.setSpec)\n",
    "    print('Name of the set (setName): ' + oai_set.setName + '\\n')"
   ]
  },
  {
   "cell_type": "code",
   "execution_count": null,
   "metadata": {},
   "outputs": [],
   "source": [
    "oai_formats = sickle.ListMetadataFormats()\n",
    "for oai_format in oai_formats:\n",
    "    print(oai_format.metadataPrefix)"
   ]
  },
  {
   "cell_type": "markdown",
   "metadata": {},
   "source": [
    "#### Configure harvesting"
   ]
  },
  {
   "cell_type": "markdown",
   "metadata": {},
   "source": [
    "We harvest only the metadata of digitized books that contain information corresponding to particular patterns.<br>\n",
    "First, we only want books that have variants of the words 'table' or 'statistics' in their title.<br>\n",
    "Second, we only want to include books that belong to particular series.<br>\n",
    "The selected series are Merc., Oecon., Enc., Cam., and Num.rec.<br>\n",
    "These abbreviations correspond to the shelf marks of the series in the BSB (Signaturfach).<br>\n",
    "The shelf marks are documented in [Haller 2011](https://mdz-nbn-resolving.de/details:bsb00067806)."
   ]
  },
  {
   "cell_type": "code",
   "execution_count": null,
   "metadata": {},
   "outputs": [],
   "source": [
    "# The patterns are defined using regular expressions as follows:\n",
    "patterns = [\n",
    "    re.compile(r'tafeln?', re.IGNORECASE),\n",
    "    re.compile(r'tabelle[n|s]?', re.IGNORECASE),\n",
    "    re.compile(r'tables?', re.IGNORECASE),\n",
    "    re.compile(r'statisti', re.IGNORECASE),\n",
    "    re.compile(r'tab[e|u]ul{1,2}a', re.IGNORECASE),\n",
    "    re.compile(r'Merc\\.|Oecon\\.|Enc\\.|Cam\\.|Num\\.ant\\.', re.IGNORECASE),\n",
    "    # add more patterns as needed\n",
    "]"
   ]
  },
  {
   "cell_type": "markdown",
   "metadata": {},
   "source": [
    "Requests were made on all datasets: \n",
    "```\n",
    "http://bdr.oai.bsb-muenchen.de/OAIHandler?verb=ListRecords&metadataPrefix=MarcXchange&set=all\n",
    "```\n",
    "The task was split into several parts, using the 'from' and 'until' information in the metadata.<br>\n",
    "The patterns are looked up in the raw records. When a pattern matches, the record is stored in the mongoDB database.<br>\n",
    "Note: Selection of books based on their year of publication is done at a later stage.<br>"
   ]
  },
  {
   "cell_type": "code",
   "execution_count": null,
   "metadata": {},
   "outputs": [],
   "source": [
    "namespaces = {\n",
    "    'http://www.openarchives.org/OAI/2.0/': 'oai',\n",
    "    'http://www.openarchives.org/OAI/2.0/oai_dc/': 'oai_dc',\n",
    "    'http://purl.org/dc/elements/1.1/': 'dc'\n",
    "}\n",
    "\n",
    "# Initialize counters and lists\n",
    "processed = 0\n",
    "count = 0\n",
    "records_to_insert = []\n",
    "\n",
    "try:\n",
    "    # change set for selective harvesting of digital collections in the BSB Digitale Sammlungen \n",
    "    # change date for harvesting records from a specific date\n",
    "    for record in sickle.ListRecords(**{'metadataPrefix': 'oai_dc','set': 'all', 'from': '2021-01-01', 'until': '2021-12-31'}): \n",
    "        processed += 1\n",
    "        if any(pattern.search(record.raw.lower()) for pattern in patterns):\n",
    "            tree = etree.ElementTree(record.xml)\n",
    "            xml_string = etree.tostring(tree.getroot(), pretty_print=True, encoding='unicode')\n",
    "            count += 1\n",
    "            \n",
    "            records_to_insert.append(xml_string)\n",
    "            \n",
    "            xml_dict = xmltodict.parse(\n",
    "                xml_string,\n",
    "                process_namespaces=True,\n",
    "                namespaces=namespaces\n",
    "            )\n",
    "\n",
    "            # Convert to BSON (necessary for MongoDB)\n",
    "            bson_data = bson.encode(xml_dict)\n",
    "            \n",
    "            # Decode back to verify\n",
    "            decoded_data = bson.decode(bson_data)\n",
    "            result = collection.insert_one(decoded_data)\n",
    "            print(f\"Stored single record ID: {result.inserted_id}\")\n",
    "            \n",
    "except Exception as e:\n",
    "    print(f\"An error occurred: {e}\")\n",
    "\n",
    "print(f\"\\nTotal records processed: {processed}\")\n",
    "print(f\"Total matching records found: {count}\")"
   ]
  },
  {
   "cell_type": "markdown",
   "metadata": {},
   "source": [
    "#### Documentation of harvesting results from BSB"
   ]
  },
  {
   "cell_type": "markdown",
   "metadata": {},
   "source": [
    "\n",
    "Metadata for books with shelf marks Merc., Oecon., Enc., and Cam. were harvested on 12-02-2025 and 13-02-2025.<br>\n",
    "Metadata for books with shelf marks Num.anc. and Num.rec. were harvested on 09-04-2025.<br>\n",
    "\n",
    "The harvesting results for the first period are as follows:<br>\n",
    "\n",
    "```html\n",
    "<resumptionToken expirationDate=\"2025-02-13T20:29:25Z\" completeListSize=\"1848361\" cursor=\"0\">\n",
    "TGlzdFJlY29yZHM6OjoxMDA6MToyMDI1LTAyLTEzVDIwJTNBMjklM0EyNVo6MTg0ODM2MQ:all:MarcXchange\n",
    "</resumptionToken>\n",
    "```\n",
    "\n",
    "- 13.02.2025: from 2025-01-01 until 2025-02-13 <br>\n",
    "    - Total records processed: 46203\n",
    "    - Total matching records found: 1362\n",
    "- 12.02.2025: from 2024-01-01 until 2024-12-31 <br>\n",
    "    - Total records processed: 682421 <br>\n",
    "    - Total matching records found: 21262 <br>\n",
    "- 12.02.2025: from 2023-01-01 until 2023-12-31 <br>\n",
    "    - Total records processed: 176073 <br>\n",
    "    - Total matching records found: 7753 <br>\n",
    "- 12.02.2025: from 2022-01-01 until 2022-12-31 <br>\n",
    "    - Total records processed: 256394 <br>\n",
    "    - Total matching records found: 9496 <br>\n",
    "- 12.02.2025: from 2021-01-01 until 2021-12-31 <br>\n",
    "    - Total records processed: 684296 <br>\n",
    "    - Total matching records found: 19923 <br>\n",
    "- 13.02.2025: from 2020-01-01 until 2020-12-31: <br>\n",
    "    - An error occurred: The combination of the values of the from, until, set and metadataPrefix arguments results in an empty list.<br>\n",
    "    - Total records processed: 0 <br>\n",
    "    - Total matching records found: 0 <br>\n",
    "- 13.02.2025: from 2019-01-01 until 2019-12-31: <br>\n",
    "    - An error occurred: The combination of the values of the from, until, set and metadataPrefix arguments results in an empty list.<br>\n",
    "    - Total records processed: 0 <br>\n",
    "    - Total matching records found: 0 <br>\n",
    "- 13.02.2025: from 2018-01-01 until 2018-12-31: <br>\n",
    "    - An error occurred: The combination of the values of the from, until, set and metadataPrefix arguments results in an empty list.<br>\n",
    "    - Total records processed: 0 <br>\n",
    "    - Total matching records found: 0 <br>\n",
    "- 13.02.2025: from 1997-01-01 until 2017-12-31: <br>\n",
    "    - An error occurred: The combination of the values of the from, until, set and metadataPrefix arguments results in an empty list.<br>\n",
    "    - Total records processed: 0 <br>\n",
    "    - Total matching records found: 0 <br>"
   ]
  }
 ],
 "metadata": {
  "kernelspec": {
   "display_name": "tablerec",
   "language": "python",
   "name": "python3"
  },
  "language_info": {
   "codemirror_mode": {
    "name": "ipython",
    "version": 3
   },
   "file_extension": ".py",
   "mimetype": "text/x-python",
   "name": "python",
   "nbconvert_exporter": "python",
   "pygments_lexer": "ipython3",
   "version": "3.13.5"
  }
 },
 "nbformat": 4,
 "nbformat_minor": 2
}
